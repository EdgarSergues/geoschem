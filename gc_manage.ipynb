{
 "cells": [
  {
   "cell_type": "code",
   "execution_count": null,
   "id": "8662f281-aefc-40f1-9549-d1891f8682c9",
   "metadata": {},
   "outputs": [],
   "source": [
    "# Imports\n",
    "import numpy as np\n",
    "import xarray as xr\n",
    "\n",
    "# Read a restart file into an xarray Dataset object\n",
    "ds = xr.open_dataset(\"GEOSChem.SpeciesConc.20190701_0000z.nc4\")\n",
    "\n",
    "# Print the contents of the DataSet\n",
    "print(ds)"
   ]
  },
  {
   "cell_type": "code",
   "execution_count": null,
   "id": "bbf983ca-309d-4254-9cc5-ddf7505167ba",
   "metadata": {},
   "outputs": [],
   "source": [
    "import xarray as xr\n",
    "import geopandas as gpd\n",
    "from shapely.geometry import Point\n",
    "\n",
    "# Ouvrir le fichier NetCDF\n",
    "ds = xr.open_dataset(\"GEOSChem.SpeciesConc.20190701_0000z.nc4\")\n",
    "\n",
    "# Liste des variables d'intérêt\n",
    "variables_of_interest = [\"SpeciesConcVV_SO2\", \"SpeciesConcVV_SO4\", \"SpeciesConcVV_NO\", \n",
    "                         \"SpeciesConcVV_NO2\", \"SpeciesConcVV_NO3\", \"SpeciesConcVV_HNO2\", \n",
    "                         \"SpeciesConcVV_HNO3\", \"SpeciesConcVV_NH3\"]\n",
    "\n",
    "# Filtrer les variables présentes dans le fichier NetCDF\n",
    "variables_presentes = [var for var in variables_of_interest if var in ds.variables]\n",
    "\n",
    "# Récupération des coordonnées\n",
    "lons = ds['lon'].values\n",
    "lats = ds['lat'].values\n",
    "\n",
    "# Création d'une GeoDataFrame pour chaque variable\n",
    "for var in variables_presentes:\n",
    "    # Extraire la variable sous forme de DataArray et moyenner sur les niveaux temporels et verticaux si nécessaire\n",
    "    data = ds[var].mean(dim=['time', 'lev'])\n",
    "\n",
    "    # Conversion des données en un DataFrame\n",
    "    points = []\n",
    "    values = []\n",
    "    for i, lon in enumerate(lons):\n",
    "        for j, lat in enumerate(lats):\n",
    "            points.append(Point(lon, lat))\n",
    "            values.append(data[j, i].values)  # Notez l'ordre (lat, lon)\n",
    "\n",
    "    # Création de la GeoDataFrame\n",
    "    gdf = gpd.GeoDataFrame({'geometry': points, var: values}, crs=\"EPSG:4326\")\n",
    "\n",
    "    # Sauvegarde en fichier .shp\n",
    "    gdf.to_file(f\"{var}.shp\")\n",
    "\n",
    "print(\"Fichiers SHP créés avec succès.\")\n"
   ]
  },
  {
   "cell_type": "code",
   "execution_count": 1,
   "id": "21a77899-7da7-4cd1-831d-89cb4cd840c9",
   "metadata": {},
   "outputs": [
    {
     "name": "stderr",
     "output_type": "stream",
     "text": [
      "/home/edgar/gcmanage/lib/python3.12/site-packages/cartopy/io/__init__.py:241: DownloadWarning: Downloading: https://naturalearth.s3.amazonaws.com/110m_physical/ne_110m_coastline.zip\n",
      "  warnings.warn(f'Downloading: {url}', DownloadWarning)\n",
      "/home/edgar/gcmanage/lib/python3.12/site-packages/cartopy/io/__init__.py:241: DownloadWarning: Downloading: https://naturalearth.s3.amazonaws.com/110m_cultural/ne_110m_admin_0_boundary_lines_land.zip\n",
      "  warnings.warn(f'Downloading: {url}', DownloadWarning)\n"
     ]
    },
    {
     "name": "stdout",
     "output_type": "stream",
     "text": [
      "Images générées avec succès.\n"
     ]
    }
   ],
   "source": [
    "import xarray as xr\n",
    "import matplotlib.pyplot as plt\n",
    "import cartopy.crs as ccrs\n",
    "import cartopy.feature as cfeature\n",
    "\n",
    "# Charger le fichier NetCDF\n",
    "ds = xr.open_dataset(\"GEOSChem.SpeciesConc.20190701_0000z.nc4\")\n",
    "\n",
    "# Liste des substances d'intérêt\n",
    "variables_of_interest = [\"SpeciesConcVV_SO2\", \"SpeciesConcVV_SO4\", \"SpeciesConcVV_NO\", \n",
    "                         \"SpeciesConcVV_NO2\", \"SpeciesConcVV_NO3\", \"SpeciesConcVV_HNO2\", \n",
    "                         \"SpeciesConcVV_HNO3\", \"SpeciesConcVV_NH3\"]\n",
    "\n",
    "# Vérification des variables disponibles dans le fichier NetCDF\n",
    "variables_presentes = [var for var in variables_of_interest if var in ds.variables]\n",
    "\n",
    "# Coordonnées pour les longitudes et latitudes\n",
    "lons = ds['lon'].values\n",
    "lats = ds['lat'].values\n",
    "\n",
    "# Création d'une carte pour chaque variable\n",
    "for var in variables_presentes:\n",
    "    # Extraire la moyenne de la concentration sur les dimensions temporelles et verticales\n",
    "    data = ds[var].mean(dim=['time', 'lev'])\n",
    "\n",
    "    # Création de la figure et du système de projection\n",
    "    plt.figure(figsize=(12, 6))\n",
    "    ax = plt.axes(projection=ccrs.PlateCarree())\n",
    "    ax.set_global()  # Pour afficher la carte complète\n",
    "    ax.coastlines()\n",
    "    ax.add_feature(cfeature.BORDERS, linestyle=':')\n",
    "\n",
    "    # Tracer les données en tant que carte de chaleur\n",
    "    plt.pcolormesh(lons, lats, data, transform=ccrs.PlateCarree(), cmap='viridis')\n",
    "    plt.colorbar(label=f\"{var} concentration\")  # Barre de couleurs indiquant la concentration\n",
    "\n",
    "    # Ajouter un titre et sauvegarder l'image\n",
    "    plt.title(f\"Concentration de {var} (moyenne)\")\n",
    "    plt.savefig(f\"{var}_concentration_map.png\")\n",
    "    plt.close()\n",
    "\n",
    "print(\"Images générées avec succès.\")\n"
   ]
  },
  {
   "cell_type": "code",
   "execution_count": null,
   "id": "8a6d0784-ae5d-4993-bdb7-ed22facb08d9",
   "metadata": {},
   "outputs": [],
   "source": []
  }
 ],
 "metadata": {
  "kernelspec": {
   "display_name": "Python 3 (ipykernel)",
   "language": "python",
   "name": "python3"
  },
  "language_info": {
   "codemirror_mode": {
    "name": "ipython",
    "version": 3
   },
   "file_extension": ".py",
   "mimetype": "text/x-python",
   "name": "python",
   "nbconvert_exporter": "python",
   "pygments_lexer": "ipython3",
   "version": "3.12.3"
  }
 },
 "nbformat": 4,
 "nbformat_minor": 5
}
